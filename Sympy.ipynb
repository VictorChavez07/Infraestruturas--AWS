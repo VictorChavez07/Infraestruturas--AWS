{
  "nbformat": 4,
  "nbformat_minor": 0,
  "metadata": {
    "colab": {
      "name": "Sympy.ipynb",
      "provenance": [],
      "collapsed_sections": [],
      "include_colab_link": true
    },
    "kernelspec": {
      "name": "python3",
      "display_name": "Python 3"
    },
    "language_info": {
      "name": "python"
    }
  },
  "cells": [
    {
      "cell_type": "markdown",
      "metadata": {
        "id": "view-in-github",
        "colab_type": "text"
      },
      "source": [
        "<a href=\"https://colab.research.google.com/github/VictorChavez07/Infraestruturas--AWS/blob/main/Sympy.ipynb\" target=\"_parent\"><img src=\"https://colab.research.google.com/assets/colab-badge.svg\" alt=\"Open In Colab\"/></a>"
      ]
    },
    {
      "cell_type": "markdown",
      "source": [
        "# **Repaso de SymPy**"
      ],
      "metadata": {
        "id": "WizXZTH7DeEI"
      }
    },
    {
      "cell_type": "markdown",
      "source": [
        "SymPy es una librería de Python para matemáticas simbólicas. Pretende ser una alternativa a sistemas como Mathematica o Maple, manteniendo el código lo más simple posible y fácilmente extensible. SymPy está escrito completamente en Python y no requiere librerías externas.\n",
        "\n",
        "La documentación de Sympy y los paquetes para la instalación se pueden encontrar en http://www.sympy.org/\n",
        "\n",
        "Un resumen presentado en https://peerj.com/articles/cs-103.pdf"
      ],
      "metadata": {
        "id": "e0KiLtWzEARG"
      }
    },
    {
      "cell_type": "markdown",
      "source": [
        "----------------------------------------------------------------------"
      ],
      "metadata": {
        "id": "RFmMSUtZFPpQ"
      }
    },
    {
      "cell_type": "markdown",
      "source": [
        "SymPy define tres tipos numéricos: Real, Racional y Entero.\n",
        "\n",
        "La clase Racional representa un número racional como un par de dos enteros: el numerador y el denominador, por lo que Racional(1, 2) representa 1/2, Racional(5, 2) 5/2 y así sucesivamente:"
      ],
      "metadata": {
        "id": "l5Moll0aFOc-"
      }
    },
    {
      "cell_type": "code",
      "source": [
        "import sympy as sym\n",
        "from IPython.display import *\n",
        "\n",
        "a = sym.Rational(1,2)\n",
        "a"
      ],
      "metadata": {
        "colab": {
          "base_uri": "https://localhost:8080/",
          "height": 51
        },
        "id": "rfrARDFUDmwv",
        "outputId": "a2c632c9-6b60-47b0-ffc7-e161380c4144"
      },
      "execution_count": 1,
      "outputs": [
        {
          "output_type": "execute_result",
          "data": {
            "text/plain": [
              "1/2"
            ],
            "text/latex": "$\\displaystyle \\frac{1}{2}$"
          },
          "metadata": {},
          "execution_count": 1
        }
      ]
    },
    {
      "cell_type": "code",
      "source": [
        "a * 2"
      ],
      "metadata": {
        "colab": {
          "base_uri": "https://localhost:8080/",
          "height": 37
        },
        "id": "qvuAi-kbFtdH",
        "outputId": "98b368d0-5de0-4704-f952-948a79c56359"
      },
      "execution_count": 2,
      "outputs": [
        {
          "output_type": "execute_result",
          "data": {
            "text/plain": [
              "1"
            ],
            "text/latex": "$\\displaystyle 1$"
          },
          "metadata": {},
          "execution_count": 2
        }
      ]
    },
    {
      "cell_type": "markdown",
      "source": [
        "SymPy usa mpmath en segundo plano, lo que hace posible realizar cálculos usando aritmética de precisión arbitraria. De esa forma, algunas constantes especiales, como $e$, π, ∞ (Infinito), se tratan como símbolos y se pueden evaluar con precisión arbitraria:"
      ],
      "metadata": {
        "id": "VRPcPAFIGABh"
      }
    },
    {
      "cell_type": "code",
      "source": [
        "sym.pi ** 2"
      ],
      "metadata": {
        "colab": {
          "base_uri": "https://localhost:8080/",
          "height": 39
        },
        "id": "5gwUg0eFGdLd",
        "outputId": "c51e9a0c-4732-4d4c-b434-55279358f0fa"
      },
      "execution_count": 3,
      "outputs": [
        {
          "output_type": "execute_result",
          "data": {
            "text/plain": [
              "pi**2"
            ],
            "text/latex": "$\\displaystyle \\pi^{2}$"
          },
          "metadata": {},
          "execution_count": 3
        }
      ]
    },
    {
      "cell_type": "code",
      "source": [
        "sym.pi.evalf()"
      ],
      "metadata": {
        "colab": {
          "base_uri": "https://localhost:8080/",
          "height": 37
        },
        "id": "QtzkJ_IEGiLP",
        "outputId": "edf72d2c-7809-4459-a544-3ecd5250da31"
      },
      "execution_count": 4,
      "outputs": [
        {
          "output_type": "execute_result",
          "data": {
            "text/plain": [
              "3.14159265358979"
            ],
            "text/latex": "$\\displaystyle 3.14159265358979$"
          },
          "metadata": {},
          "execution_count": 4
        }
      ]
    },
    {
      "cell_type": "code",
      "source": [
        "(sym.pi + sym.exp(1)).evalf()"
      ],
      "metadata": {
        "colab": {
          "base_uri": "https://localhost:8080/",
          "height": 37
        },
        "id": "-GvnMPNdGkZv",
        "outputId": "e671dfa0-f0a2-4786-994e-e69784098a34"
      },
      "execution_count": 5,
      "outputs": [
        {
          "output_type": "execute_result",
          "data": {
            "text/plain": [
              "5.85987448204884"
            ],
            "text/latex": "$\\displaystyle 5.85987448204884$"
          },
          "metadata": {},
          "execution_count": 5
        }
      ]
    },
    {
      "cell_type": "markdown",
      "source": [
        "Como se puede observar, la función evalf evalúa la expresión como un número de punto flotante.\n",
        "\n",
        "También hay una clase que representa el infinito matemático, llamada ∞:"
      ],
      "metadata": {
        "id": "4M7ZOs45GtbF"
      }
    },
    {
      "cell_type": "code",
      "source": [
        "sym.oo > 999999"
      ],
      "metadata": {
        "colab": {
          "base_uri": "https://localhost:8080/",
          "height": 37
        },
        "id": "TDyo-qFHG3os",
        "outputId": "9408d25b-9629-4b72-8efe-58dcec173bb4"
      },
      "execution_count": 6,
      "outputs": [
        {
          "output_type": "execute_result",
          "data": {
            "text/plain": [
              "True"
            ],
            "text/latex": "$\\displaystyle \\text{True}$"
          },
          "metadata": {},
          "execution_count": 6
        }
      ]
    },
    {
      "cell_type": "code",
      "source": [
        "sym.oo + 1"
      ],
      "metadata": {
        "colab": {
          "base_uri": "https://localhost:8080/",
          "height": 37
        },
        "id": "hQLFr0L_G-Ku",
        "outputId": "8ff7b027-e0a8-4e25-af76-443012d05a9f"
      },
      "execution_count": 7,
      "outputs": [
        {
          "output_type": "execute_result",
          "data": {
            "text/plain": [
              "oo"
            ],
            "text/latex": "$\\displaystyle \\infty$"
          },
          "metadata": {},
          "execution_count": 7
        }
      ]
    },
    {
      "cell_type": "markdown",
      "source": [
        "**Ejercicios**\n",
        "\n",
        "\n",
        "\n",
        "1.   Calcula $\\sqrt 2$ con 100 decimales.\n",
        "2.   Calcula $\\frac 1 2$ + $\\frac 1 3$ en aritmética racional.\n",
        "\n"
      ],
      "metadata": {
        "id": "k3X5EEGUHJcH"
      }
    },
    {
      "cell_type": "code",
      "source": [
        "## Solucion 1\n",
        "y=(sym.sqrt(2)).evalf(100)\n",
        "y"
      ],
      "metadata": {
        "colab": {
          "base_uri": "https://localhost:8080/",
          "height": 37
        },
        "id": "QL7RxSVrNM1N",
        "outputId": "ca96ab40-ffa7-443b-91ea-95ab305be843"
      },
      "execution_count": 69,
      "outputs": [
        {
          "output_type": "execute_result",
          "data": {
            "text/plain": [
              "1.4142135623730950488016887242096980785696718753769480731766797379907324784621\n",
              "07038850387534327641573"
            ],
            "image/png": "[encoded data removed]",
            "text/latex": "$\\displaystyle 1.414213562373095048801688724209698078569671875376948073176679737990732478462107038850387534327641573$"
          },
          "metadata": {},
          "execution_count": 69
        }
      ]
    },
    {
      "cell_type": "code",
      "source": [
        "## Solucion 2\n",
        "a=sym.Rational(1,2)\n",
        "b=sym.Rational(1,3)\n",
        "y=(a+b).evalf()\n",
        "y"
      ],
      "metadata": {
        "colab": {
          "base_uri": "https://localhost:8080/",
          "height": 37
        },
        "id": "TFJXRUtMPJF0",
        "outputId": "9458eced-14a6-40bc-9750-892679d3015d"
      },
      "execution_count": 73,
      "outputs": [
        {
          "output_type": "execute_result",
          "data": {
            "text/plain": [
              "0.833333333333333"
            ],
            "image/png": "[encoded data removed]",
            "text/latex": "$\\displaystyle 0.833333333333333$"
          },
          "metadata": {},
          "execution_count": 73
        }
      ]
    },
    {
      "cell_type": "markdown",
      "source": [
        "## Símbolos"
      ],
      "metadata": {
        "id": "cyA5U9G4HxlB"
      }
    },
    {
      "cell_type": "markdown",
      "source": [
        "A diferencia de otros sistemas de álgebra computacional, en SymPy debe declarar las variables simbólicas explícitamente:"
      ],
      "metadata": {
        "id": "2cdHFTl4IBy2"
      }
    },
    {
      "cell_type": "code",
      "source": [
        "x = sym.Symbol('x')\n",
        "y = sym.Symbol('y')"
      ],
      "metadata": {
        "id": "k6G7CoVLH29g"
      },
      "execution_count": 8,
      "outputs": []
    },
    {
      "cell_type": "markdown",
      "source": [
        "Entonces pueden ser manipuladas:"
      ],
      "metadata": {
        "id": "gOaIYw-AJEG3"
      }
    },
    {
      "cell_type": "code",
      "source": [
        "x + y + x - y"
      ],
      "metadata": {
        "colab": {
          "base_uri": "https://localhost:8080/",
          "height": 39
        },
        "id": "FS99-T6tJKBt",
        "outputId": "942e740d-e631-4e98-99e8-515f128d4aea"
      },
      "execution_count": 9,
      "outputs": [
        {
          "output_type": "execute_result",
          "data": {
            "text/plain": [
              "2*x"
            ],
            "text/latex": "$\\displaystyle 2 x$"
          },
          "metadata": {},
          "execution_count": 9
        }
      ]
    },
    {
      "cell_type": "code",
      "source": [
        "(x + y) ** 2"
      ],
      "metadata": {
        "colab": {
          "base_uri": "https://localhost:8080/",
          "height": 40
        },
        "id": "Zf50ORHQJOrf",
        "outputId": "54f0f354-64da-4cfe-c5e3-e2c30cb87bca"
      },
      "execution_count": 10,
      "outputs": [
        {
          "output_type": "execute_result",
          "data": {
            "text/plain": [
              "(x + y)**2"
            ],
            "text/latex": "$\\displaystyle \\left(x + y\\right)^{2}$"
          },
          "metadata": {},
          "execution_count": 10
        }
      ]
    },
    {
      "cell_type": "markdown",
      "source": [
        "Los símbolos ahora se pueden manipular usando algunos de los operadores de Python: +, -`, ``*, ** (aritmética), &, |, ~ , >>, << (booleano)."
      ],
      "metadata": {
        "id": "V4c-IR_6Zu2r"
      }
    },
    {
      "cell_type": "markdown",
      "source": [
        "Sympy permite el control de la visualización de la salida. Desde aquí usamos la siguiente configuración para imprimir:"
      ],
      "metadata": {
        "id": "CRG8EdroaAEk"
      }
    },
    {
      "cell_type": "code",
      "source": [
        "sym.init_printing(use_unicode=False, wrap_line=True)"
      ],
      "metadata": {
        "id": "zTPxeM2-Z3Lk"
      },
      "execution_count": 11,
      "outputs": []
    },
    {
      "cell_type": "markdown",
      "source": [
        "## Manipulaciones Algebráicas"
      ],
      "metadata": {
        "id": "C-XZ_lsQaDQH"
      }
    },
    {
      "cell_type": "markdown",
      "source": [
        "SymPy es capaz de realizar poderosas manipulaciones algebraicas. Echaremos un vistazo a algunos de los más utilizados: ampliar y simplificar."
      ],
      "metadata": {
        "id": "nOONR9zGaNpq"
      }
    },
    {
      "cell_type": "markdown",
      "source": [
        "**Ampliar**\n",
        "\n",
        "Usa el siguiente código para expandir una expresión algebráica. Se intentará anidar potencias y multiplicaciones:"
      ],
      "metadata": {
        "id": "4ug5ixM-aT2D"
      }
    },
    {
      "cell_type": "code",
      "source": [
        "sym.expand((x + y) ** 3)"
      ],
      "metadata": {
        "colab": {
          "base_uri": "https://localhost:8080/",
          "height": 39
        },
        "id": "ZEz9GkqgaNZs",
        "outputId": "b43ba984-182a-4f86-b3ef-8ae035654479"
      },
      "execution_count": 12,
      "outputs": [
        {
          "output_type": "execute_result",
          "data": {
            "text/plain": [
              " 3      2          2    3\n",
              "x  + 3*x *y + 3*x*y  + y "
            ],
            "image/png": "[encoded data removed]",
            "text/latex": "$\\displaystyle x^{3} + 3 x^{2} y + 3 x y^{2} + y^{3}$"
          },
          "metadata": {},
          "execution_count": 12
        }
      ]
    },
    {
      "cell_type": "code",
      "source": [
        "3 * x * y ** 2 + 3 * y * x ** 2 + x ** 3 + y ** 3"
      ],
      "metadata": {
        "colab": {
          "base_uri": "https://localhost:8080/",
          "height": 39
        },
        "id": "r0gSmRvEanE-",
        "outputId": "53d6963a-964e-4c86-879b-eeb015a22c2e"
      },
      "execution_count": 13,
      "outputs": [
        {
          "output_type": "execute_result",
          "data": {
            "text/plain": [
              " 3      2          2    3\n",
              "x  + 3*x *y + 3*x*y  + y "
            ],
            "image/png": "[encoded data removed]",
            "text/latex": "$\\displaystyle x^{3} + 3 x^{2} y + 3 x y^{2} + y^{3}$"
          },
          "metadata": {},
          "execution_count": 13
        }
      ]
    },
    {
      "cell_type": "markdown",
      "source": [
        "Se pueden dar más opciones en forma de palabras clave:"
      ],
      "metadata": {
        "id": "Ryfq9nGwauOZ"
      }
    },
    {
      "cell_type": "code",
      "source": [
        "sym.expand(x + y, complex=True)"
      ],
      "metadata": {
        "colab": {
          "base_uri": "https://localhost:8080/",
          "height": 39
        },
        "id": "Q1AVrfXcavZd",
        "outputId": "a83d04cc-5959-4d77-f05f-d5abe7e6a4d7"
      },
      "execution_count": 14,
      "outputs": [
        {
          "output_type": "execute_result",
          "data": {
            "text/plain": [
              "re(x) + re(y) + I*im(x) + I*im(y)"
            ],
            "image/png": "[encoded data removed]",
            "text/latex": "$\\displaystyle \\operatorname{re}{\\left(x\\right)} + \\operatorname{re}{\\left(y\\right)} + i \\operatorname{im}{\\left(x\\right)} + i \\operatorname{im}{\\left(y\\right)}$"
          },
          "metadata": {},
          "execution_count": 14
        }
      ]
    },
    {
      "cell_type": "code",
      "source": [
        "sym.I * sym.im(x) + sym.I * sym.im(y) + sym.re(x) + sym.re(y)"
      ],
      "metadata": {
        "colab": {
          "base_uri": "https://localhost:8080/",
          "height": 39
        },
        "id": "WjYohD3Way01",
        "outputId": "3ea077bf-68d6-434c-ad03-0c7e820f20f6"
      },
      "execution_count": 15,
      "outputs": [
        {
          "output_type": "execute_result",
          "data": {
            "text/plain": [
              "re(x) + re(y) + I*im(x) + I*im(y)"
            ],
            "image/png": "[encoded data removed]",
            "text/latex": "$\\displaystyle \\operatorname{re}{\\left(x\\right)} + \\operatorname{re}{\\left(y\\right)} + i \\operatorname{im}{\\left(x\\right)} + i \\operatorname{im}{\\left(y\\right)}$"
          },
          "metadata": {},
          "execution_count": 15
        }
      ]
    },
    {
      "cell_type": "code",
      "source": [
        "sym.expand(sym.cos(x + y), trig=True)"
      ],
      "metadata": {
        "colab": {
          "base_uri": "https://localhost:8080/",
          "height": 39
        },
        "id": "hhKRK1ada1mW",
        "outputId": "b777395e-b520-48c8-94b1-956b110866be"
      },
      "execution_count": 16,
      "outputs": [
        {
          "output_type": "execute_result",
          "data": {
            "text/plain": [
              "-sin(x)*sin(y) + cos(x)*cos(y)"
            ],
            "image/png": "[encoded data removed]",
            "text/latex": "$\\displaystyle - \\sin{\\left(x \\right)} \\sin{\\left(y \\right)} + \\cos{\\left(x \\right)} \\cos{\\left(y \\right)}$"
          },
          "metadata": {},
          "execution_count": 16
        }
      ]
    },
    {
      "cell_type": "code",
      "source": [
        "sym.cos(x) * sym.cos(y) - sym.sin(x) * sym.sin(y)"
      ],
      "metadata": {
        "colab": {
          "base_uri": "https://localhost:8080/",
          "height": 39
        },
        "id": "yC1G1HNRa51z",
        "outputId": "2bbb2878-5cae-4a93-fe40-92581eab311e"
      },
      "execution_count": 17,
      "outputs": [
        {
          "output_type": "execute_result",
          "data": {
            "text/plain": [
              "-sin(x)*sin(y) + cos(x)*cos(y)"
            ],
            "image/png": "[encoded data removed]",
            "text/latex": "$\\displaystyle - \\sin{\\left(x \\right)} \\sin{\\left(y \\right)} + \\cos{\\left(x \\right)} \\cos{\\left(y \\right)}$"
          },
          "metadata": {},
          "execution_count": 17
        }
      ]
    },
    {
      "cell_type": "markdown",
      "source": [
        "**Simplificar**\n",
        "\n",
        "Use el siguiente código si desea transformar una expresión en una forma más simple:"
      ],
      "metadata": {
        "id": "gxD4HIUSa-kG"
      }
    },
    {
      "cell_type": "code",
      "source": [
        "sym.simplify((x + x * y) / x)"
      ],
      "metadata": {
        "colab": {
          "base_uri": "https://localhost:8080/",
          "height": 39
        },
        "id": "3Zdu36Z8bRtb",
        "outputId": "6d4ed186-87f1-4c66-e3f3-a38bab0fcef9"
      },
      "execution_count": 18,
      "outputs": [
        {
          "output_type": "execute_result",
          "data": {
            "text/plain": [
              "y + 1"
            ],
            "image/png": "[encoded data removed]",
            "text/latex": "$\\displaystyle y + 1$"
          },
          "metadata": {},
          "execution_count": 18
        }
      ]
    },
    {
      "cell_type": "markdown",
      "source": [
        "La simplificación es un término un poco vago, y existen alternativas más precisas para simplificar: powsimp (simplificación de exponentes), trigsimp (para expresiones trigonométricas), logcombine, radsimp, together."
      ],
      "metadata": {
        "id": "IiQRd2P8bYJ3"
      }
    },
    {
      "cell_type": "markdown",
      "source": [
        "**Ejercicios**\n",
        "\n",
        "\n",
        "1.   Calcula la ampliación de $(x + y)^{6}$\n",
        "2.   Simplifica la expresión trigonométrica $\\frac{sin(x)}{\\cos(x)}$\n",
        "\n"
      ],
      "metadata": {
        "id": "8u5YJ4kKbdhb"
      }
    },
    {
      "cell_type": "code",
      "source": [
        "## Solucion 1\n",
        "x = sym.Symbol('x')\n",
        "y = sym.Symbol('y')\n",
        "sol_1 =sym.expand(( x + y )**6)\n",
        "sol_1\n",
        "\n"
      ],
      "metadata": {
        "colab": {
          "base_uri": "https://localhost:8080/",
          "height": 39
        },
        "id": "ndqcipDXQvJS",
        "outputId": "47ef58ba-cb89-412a-cee0-a48b3fe8f61f"
      },
      "execution_count": 77,
      "outputs": [
        {
          "output_type": "execute_result",
          "data": {
            "text/plain": [
              " 6      5         4  2       3  3       2  4        5    6\n",
              "x  + 6*x *y + 15*x *y  + 20*x *y  + 15*x *y  + 6*x*y  + y "
            ],
            "image/png": "[encoded data removed]",
            "text/latex": "$\\displaystyle x^{6} + 6 x^{5} y + 15 x^{4} y^{2} + 20 x^{3} y^{3} + 15 x^{2} y^{4} + 6 x y^{5} + y^{6}$"
          },
          "metadata": {},
          "execution_count": 77
        }
      ]
    },
    {
      "cell_type": "code",
      "source": [
        "## Solucion 2\n",
        "sol_2=sym.expand((sym.sin(x)/sym.cos(x)))\n",
        "sol_2"
      ],
      "metadata": {
        "colab": {
          "base_uri": "https://localhost:8080/",
          "height": 57
        },
        "id": "l5RuMnbJQ0tq",
        "outputId": "68f39d16-4de2-43da-98cd-a5a1f5041312"
      },
      "execution_count": 84,
      "outputs": [
        {
          "output_type": "execute_result",
          "data": {
            "text/plain": [
              "sin(x)\n",
              "------\n",
              "cos(x)"
            ],
            "image/png": "[encoded data removed]",
            "text/latex": "$\\displaystyle \\frac{\\sin{\\left(x \\right)}}{\\cos{\\left(x \\right)}}$"
          },
          "metadata": {},
          "execution_count": 84
        }
      ]
    },
    {
      "cell_type": "markdown",
      "source": [
        "## Cálculo"
      ],
      "metadata": {
        "id": "j767ntJGcfp8"
      }
    },
    {
      "cell_type": "markdown",
      "source": [
        "**Límites**\n",
        "\n",
        "Los límites son fáciles de usar en SymPy, siguen la sintaxis limit(función, variable, punto), por lo que para calcular el límite de f(x) con x $\\rightarrow$ 0, emitiría limit(f, x, 0):"
      ],
      "metadata": {
        "id": "SjwmBIL7con7"
      }
    },
    {
      "cell_type": "code",
      "source": [
        "sym.limit(sym.sin(x) / x, x, 0)"
      ],
      "metadata": {
        "colab": {
          "base_uri": "https://localhost:8080/",
          "height": 37
        },
        "id": "wk_-gnyMdCbs",
        "outputId": "f9f2f6ac-66ee-4a41-be78-68467a5d2aea"
      },
      "execution_count": 19,
      "outputs": [
        {
          "output_type": "execute_result",
          "data": {
            "text/plain": [
              "1"
            ],
            "image/png": "[encoded data removed]",
            "text/latex": "$\\displaystyle 1$"
          },
          "metadata": {},
          "execution_count": 19
        }
      ]
    },
    {
      "cell_type": "markdown",
      "source": [
        "También puedes calcular el límite en el infinito:\n"
      ],
      "metadata": {
        "id": "HmLn-fM0dcbU"
      }
    },
    {
      "cell_type": "code",
      "source": [
        "sym.limit(x, x, sym.oo)"
      ],
      "metadata": {
        "colab": {
          "base_uri": "https://localhost:8080/",
          "height": 37
        },
        "id": "3JZevbceddnV",
        "outputId": "3c756891-1105-4ba3-96f6-a9af7c97dbe9"
      },
      "execution_count": 20,
      "outputs": [
        {
          "output_type": "execute_result",
          "data": {
            "text/plain": [
              "oo"
            ],
            "image/png": "[encoded data removed]",
            "text/latex": "$\\displaystyle \\infty$"
          },
          "metadata": {},
          "execution_count": 20
        }
      ]
    },
    {
      "cell_type": "code",
      "source": [
        "sym.limit(1 / x, x, sym.oo)"
      ],
      "metadata": {
        "colab": {
          "base_uri": "https://localhost:8080/",
          "height": 37
        },
        "id": "F-IaPdtKdfoI",
        "outputId": "63f44440-977f-47cd-9513-b665938d5c49"
      },
      "execution_count": 21,
      "outputs": [
        {
          "output_type": "execute_result",
          "data": {
            "text/plain": [
              "0"
            ],
            "image/png": "[encoded data removed]",
            "text/latex": "$\\displaystyle 0$"
          },
          "metadata": {},
          "execution_count": 21
        }
      ]
    },
    {
      "cell_type": "code",
      "source": [
        "sym.limit(x ** x, x, 0)"
      ],
      "metadata": {
        "colab": {
          "base_uri": "https://localhost:8080/",
          "height": 37
        },
        "id": "5_Bt5sWYdiVN",
        "outputId": "98ff7360-666e-414a-ff33-c5121deb9bfe"
      },
      "execution_count": 22,
      "outputs": [
        {
          "output_type": "execute_result",
          "data": {
            "text/plain": [
              "1"
            ],
            "image/png": "[encoded data removed]",
            "text/latex": "$\\displaystyle 1$"
          },
          "metadata": {},
          "execution_count": 22
        }
      ]
    },
    {
      "cell_type": "markdown",
      "source": [
        "**Derivación**\n",
        "\n",
        "Se puede derivar cualquier expresión de SymPy usando diff(func, var)."
      ],
      "metadata": {
        "id": "1ABBCJ8JdnUF"
      }
    },
    {
      "cell_type": "code",
      "source": [
        "sym.diff(sym.sin(x), x)"
      ],
      "metadata": {
        "colab": {
          "base_uri": "https://localhost:8080/",
          "height": 39
        },
        "id": "0cUFBGGIdwWt",
        "outputId": "9b058072-c1c5-4597-ab26-a161840325c5"
      },
      "execution_count": 23,
      "outputs": [
        {
          "output_type": "execute_result",
          "data": {
            "text/plain": [
              "cos(x)"
            ],
            "image/png": "[encoded data removed]",
            "text/latex": "$\\displaystyle \\cos{\\left(x \\right)}$"
          },
          "metadata": {},
          "execution_count": 23
        }
      ]
    },
    {
      "cell_type": "code",
      "source": [
        "sym.diff(sym.sin(2 * x), x)"
      ],
      "metadata": {
        "colab": {
          "base_uri": "https://localhost:8080/",
          "height": 39
        },
        "id": "hr8EA2AOdzp1",
        "outputId": "ba34413a-bbf1-4eed-df1a-64c358847158"
      },
      "execution_count": 24,
      "outputs": [
        {
          "output_type": "execute_result",
          "data": {
            "text/plain": [
              "2*cos(2*x)"
            ],
            "image/png": "[encoded data removed]",
            "text/latex": "$\\displaystyle 2 \\cos{\\left(2 x \\right)}$"
          },
          "metadata": {},
          "execution_count": 24
        }
      ]
    },
    {
      "cell_type": "code",
      "source": [
        "sym.diff(sym.tan(x), x)"
      ],
      "metadata": {
        "colab": {
          "base_uri": "https://localhost:8080/",
          "height": 39
        },
        "id": "N64Sv_3td_Ij",
        "outputId": "a2419483-4c8e-4dbd-f158-e5575d50af51"
      },
      "execution_count": 25,
      "outputs": [
        {
          "output_type": "execute_result",
          "data": {
            "text/plain": [
              "   2       \n",
              "tan (x) + 1"
            ],
            "image/png": "[encoded data removed]",
            "text/latex": "$\\displaystyle \\tan^{2}{\\left(x \\right)} + 1$"
          },
          "metadata": {},
          "execution_count": 25
        }
      ]
    },
    {
      "cell_type": "markdown",
      "source": [
        "Se puede comprobar que es correcto por"
      ],
      "metadata": {
        "id": "859RX72teIyk"
      }
    },
    {
      "cell_type": "code",
      "source": [
        "h = sym.Symbol('h')\n",
        "sym.limit((sym.tan(x + h) - sym.tan(x)) / h, h, 0)"
      ],
      "metadata": {
        "colab": {
          "base_uri": "https://localhost:8080/",
          "height": 39
        },
        "id": "9YCaeYUOeLJE",
        "outputId": "19f4cac7-4a47-498d-f62c-4138bc25eb64"
      },
      "execution_count": 26,
      "outputs": [
        {
          "output_type": "execute_result",
          "data": {
            "text/plain": [
              "   2       \n",
              "tan (x) + 1"
            ],
            "image/png": "[encoded data removed]",
            "text/latex": "$\\displaystyle \\tan^{2}{\\left(x \\right)} + 1$"
          },
          "metadata": {},
          "execution_count": 26
        }
      ]
    },
    {
      "cell_type": "markdown",
      "source": [
        "Las derivadas con mayor orden se pueden calcular utilizando el método diff(func, var, n):"
      ],
      "metadata": {
        "id": "m6Mm4fhBencd"
      }
    },
    {
      "cell_type": "code",
      "source": [
        "sym.diff(sym.sin(2 * x), x, 1)"
      ],
      "metadata": {
        "colab": {
          "base_uri": "https://localhost:8080/",
          "height": 39
        },
        "id": "gMNlGnfVetHy",
        "outputId": "1e109b64-3c4d-46aa-d379-f125516fb004"
      },
      "execution_count": 27,
      "outputs": [
        {
          "output_type": "execute_result",
          "data": {
            "text/plain": [
              "2*cos(2*x)"
            ],
            "image/png": "[encoded data removed]",
            "text/latex": "$\\displaystyle 2 \\cos{\\left(2 x \\right)}$"
          },
          "metadata": {},
          "execution_count": 27
        }
      ]
    },
    {
      "cell_type": "code",
      "source": [
        "sym.diff(sym.sin(2 * x), x, 2)"
      ],
      "metadata": {
        "colab": {
          "base_uri": "https://localhost:8080/",
          "height": 39
        },
        "id": "S8DvxXsiev-b",
        "outputId": "99705d17-2270-4122-d5d0-df6d01927413"
      },
      "execution_count": 28,
      "outputs": [
        {
          "output_type": "execute_result",
          "data": {
            "text/plain": [
              "-4*sin(2*x)"
            ],
            "image/png": "[encoded data removed]",
            "text/latex": "$\\displaystyle - 4 \\sin{\\left(2 x \\right)}$"
          },
          "metadata": {},
          "execution_count": 28
        }
      ]
    },
    {
      "cell_type": "code",
      "source": [
        "sym.diff(sym.sin(2 * x), x, 3)"
      ],
      "metadata": {
        "colab": {
          "base_uri": "https://localhost:8080/",
          "height": 39
        },
        "id": "XS8iRrd2eypc",
        "outputId": "63e12cb9-dd5b-4e6f-aea4-602ed47ec618"
      },
      "execution_count": 29,
      "outputs": [
        {
          "output_type": "execute_result",
          "data": {
            "text/plain": [
              "-8*cos(2*x)"
            ],
            "image/png": "[encoded data removed]",
            "text/latex": "$\\displaystyle - 8 \\cos{\\left(2 x \\right)}$"
          },
          "metadata": {},
          "execution_count": 29
        }
      ]
    },
    {
      "cell_type": "markdown",
      "source": [
        "**Expansión de la serie**\n",
        "\n",
        "SymPy también sabe cómo calcular la serie de Taylor de una expresión en un punto. Usar series(expr, var):"
      ],
      "metadata": {
        "id": "gp8Iu11ne_7-"
      }
    },
    {
      "cell_type": "code",
      "source": [
        "sym.series(sym.cos(x), x)"
      ],
      "metadata": {
        "colab": {
          "base_uri": "https://localhost:8080/",
          "height": 54
        },
        "id": "fEwscW9kfIdk",
        "outputId": "f948a91d-9aef-43f5-9394-d6eecc5859da"
      },
      "execution_count": 30,
      "outputs": [
        {
          "output_type": "execute_result",
          "data": {
            "text/plain": [
              "     2    4        \n",
              "    x    x     / 6\\\n",
              "1 - -- + -- + O\\x /\n",
              "    2    24        "
            ],
            "image/png": "[encoded data removed]",
            "text/latex": "$\\displaystyle 1 - \\frac{x^{2}}{2} + \\frac{x^{4}}{24} + O\\left(x^{6}\\right)$"
          },
          "metadata": {},
          "execution_count": 30
        }
      ]
    },
    {
      "cell_type": "code",
      "source": [
        "sym.series(1/sym.cos(x), x)"
      ],
      "metadata": {
        "colab": {
          "base_uri": "https://localhost:8080/",
          "height": 54
        },
        "id": "7U2FWIGHfMqg",
        "outputId": "ef10c799-1da6-4b1a-ea80-bdaebf329673"
      },
      "execution_count": 31,
      "outputs": [
        {
          "output_type": "execute_result",
          "data": {
            "text/plain": [
              "     2      4        \n",
              "    x    5*x     / 6\\\n",
              "1 + -- + ---- + O\\x /\n",
              "    2     24         "
            ],
            "image/png": "[encoded data removed]",
            "text/latex": "$\\displaystyle 1 + \\frac{x^{2}}{2} + \\frac{5 x^{4}}{24} + O\\left(x^{6}\\right)$"
          },
          "metadata": {},
          "execution_count": 31
        }
      ]
    },
    {
      "cell_type": "markdown",
      "source": [
        "**Ejercicios**\n",
        "\n",
        "\n",
        "\n",
        "1.   Calcula $\\lim_{x \\to 0} \\frac{\\sin x}{x}$.\n",
        "2.   Calcula la derivada de $\\log x$ respecto a $x$.\n",
        "\n"
      ],
      "metadata": {
        "id": "IxDYsNLrfNzs"
      }
    },
    {
      "cell_type": "code",
      "source": [
        "#solucion 1 \n",
        "s_1=sym.limit ((sym.sin(x))/x ,x,0)\n",
        "s_1\n"
      ],
      "metadata": {
        "colab": {
          "base_uri": "https://localhost:8080/",
          "height": 37
        },
        "id": "JKq_nA8QiM13",
        "outputId": "3ec80a98-438d-4260-f26f-d8a8ac26bf5b"
      },
      "execution_count": 88,
      "outputs": [
        {
          "output_type": "execute_result",
          "data": {
            "text/plain": [
              "1"
            ],
            "image/png": "[encoded data removed]",
            "text/latex": "$\\displaystyle 1$"
          },
          "metadata": {},
          "execution_count": 88
        }
      ]
    },
    {
      "cell_type": "code",
      "source": [
        "#solucion 2\n",
        "s_2 =sym.diff(sym.log(x))\n",
        "s_2"
      ],
      "metadata": {
        "colab": {
          "base_uri": "https://localhost:8080/",
          "height": 51
        },
        "id": "bxWs1cdOlrE_",
        "outputId": "d9e4a356-7c85-4f35-b5ea-62d49df3285c"
      },
      "execution_count": 90,
      "outputs": [
        {
          "output_type": "execute_result",
          "data": {
            "text/plain": [
              "1\n",
              "-\n",
              "x"
            ],
            "image/png": "[encoded data removed]",
            "text/latex": "$\\displaystyle \\frac{1}{x}$"
          },
          "metadata": {},
          "execution_count": 90
        }
      ]
    },
    {
      "cell_type": "markdown",
      "source": [
        "**Integrales**\n",
        "\n",
        "SymPy tiene soporte para la integral indefinida y definitiva de funciones especiales y elementales trascendentales a través de la función de integrate(), que utiliza el poderoso algoritmo Risch-Norman extendido y algunas heurísticas y coincidencia de patrones. Se puede integrar funciones elementales:"
      ],
      "metadata": {
        "id": "V3kfYL8mgg03"
      }
    },
    {
      "cell_type": "code",
      "source": [
        "sym.integrate(6 * x ** 5, x)"
      ],
      "metadata": {
        "colab": {
          "base_uri": "https://localhost:8080/",
          "height": 39
        },
        "id": "WysIMjTng1O9",
        "outputId": "b3786292-650b-40e9-8023-08d1ddba777f"
      },
      "execution_count": 32,
      "outputs": [
        {
          "output_type": "execute_result",
          "data": {
            "text/plain": [
              " 6\n",
              "x "
            ],
            "image/png": "[encoded data removed]",
            "text/latex": "$\\displaystyle x^{6}$"
          },
          "metadata": {},
          "execution_count": 32
        }
      ]
    },
    {
      "cell_type": "code",
      "source": [
        "sym.integrate(sym.sin(x), x)"
      ],
      "metadata": {
        "colab": {
          "base_uri": "https://localhost:8080/",
          "height": 39
        },
        "id": "8wH-jIKag5IN",
        "outputId": "c126488a-4028-46a7-84d2-1e915591b974"
      },
      "execution_count": 33,
      "outputs": [
        {
          "output_type": "execute_result",
          "data": {
            "text/plain": [
              "-cos(x)"
            ],
            "image/png": "[encoded data removed]",
            "text/latex": "$\\displaystyle - \\cos{\\left(x \\right)}$"
          },
          "metadata": {},
          "execution_count": 33
        }
      ]
    },
    {
      "cell_type": "code",
      "source": [
        "sym.integrate(sym.log(x), x)"
      ],
      "metadata": {
        "colab": {
          "base_uri": "https://localhost:8080/",
          "height": 39
        },
        "id": "PmokhKHFg8FG",
        "outputId": "e351da62-d97f-443b-de2d-1d1551f8795b"
      },
      "execution_count": 34,
      "outputs": [
        {
          "output_type": "execute_result",
          "data": {
            "text/plain": [
              "x*log(x) - x"
            ],
            "image/png": "[encoded data removed]",
            "text/latex": "$\\displaystyle x \\log{\\left(x \\right)} - x$"
          },
          "metadata": {},
          "execution_count": 34
        }
      ]
    },
    {
      "cell_type": "code",
      "source": [
        "sym.integrate(2 * x + sym.sinh(x), x)"
      ],
      "metadata": {
        "colab": {
          "base_uri": "https://localhost:8080/",
          "height": 39
        },
        "id": "NOMl91yng-U-",
        "outputId": "25df57ff-6f83-41bd-dd8f-6bd8bb3b9424"
      },
      "execution_count": 35,
      "outputs": [
        {
          "output_type": "execute_result",
          "data": {
            "text/plain": [
              " 2          \n",
              "x  + cosh(x)"
            ],
            "image/png": "[encoded data removed]",
            "text/latex": "$\\displaystyle x^{2} + \\cosh{\\left(x \\right)}$"
          },
          "metadata": {},
          "execution_count": 35
        }
      ]
    },
    {
      "cell_type": "markdown",
      "source": [
        "También las funciones especiales se manejan fácilmente:"
      ],
      "metadata": {
        "id": "YGcndm62hCg2"
      }
    },
    {
      "cell_type": "code",
      "source": [
        "sym.integrate(sym.exp(-x ** 2) * sym.erf(x), x)"
      ],
      "metadata": {
        "colab": {
          "base_uri": "https://localhost:8080/",
          "height": 55
        },
        "id": "xrzs6t7vhDAe",
        "outputId": "867bc59e-48aa-4dcb-82fd-3a53e493ddb3"
      },
      "execution_count": 36,
      "outputs": [
        {
          "output_type": "execute_result",
          "data": {
            "text/plain": [
              "  ____    2   \n",
              "\\/ pi *erf (x)\n",
              "--------------\n",
              "      4       "
            ],
            "image/png": "[encoded data removed]",
            "text/latex": "$\\displaystyle \\frac{\\sqrt{\\pi} \\operatorname{erf}^{2}{\\left(x \\right)}}{4}$"
          },
          "metadata": {},
          "execution_count": 36
        }
      ]
    },
    {
      "cell_type": "markdown",
      "source": [
        "Es posible calcular la integral definida:"
      ],
      "metadata": {
        "id": "oqd39nNvhMw2"
      }
    },
    {
      "cell_type": "code",
      "source": [
        "sym.integrate(x**3, (x, -1, 1))"
      ],
      "metadata": {
        "colab": {
          "base_uri": "https://localhost:8080/",
          "height": 37
        },
        "id": "rlWuGiUchMiO",
        "outputId": "a40acbed-f135-4e1d-f129-c3916fe22e11"
      },
      "execution_count": 37,
      "outputs": [
        {
          "output_type": "execute_result",
          "data": {
            "text/plain": [
              "0"
            ],
            "image/png": "[encoded data removed]",
            "text/latex": "$\\displaystyle 0$"
          },
          "metadata": {},
          "execution_count": 37
        }
      ]
    },
    {
      "cell_type": "code",
      "source": [
        "sym.integrate(sym.sin(x), (x, 0, sym.pi / 2))"
      ],
      "metadata": {
        "colab": {
          "base_uri": "https://localhost:8080/",
          "height": 37
        },
        "id": "sw8o9oeLhQhE",
        "outputId": "44637e77-2d0c-4aab-d431-92f04d736db2"
      },
      "execution_count": 38,
      "outputs": [
        {
          "output_type": "execute_result",
          "data": {
            "text/plain": [
              "1"
            ],
            "image/png": "[encoded data removed]",
            "text/latex": "$\\displaystyle 1$"
          },
          "metadata": {},
          "execution_count": 38
        }
      ]
    },
    {
      "cell_type": "code",
      "source": [
        "sym.integrate(sym.cos(x), (x, -sym.pi / 2, sym.pi / 2))"
      ],
      "metadata": {
        "colab": {
          "base_uri": "https://localhost:8080/",
          "height": 37
        },
        "id": "Hn7nlrnvhSje",
        "outputId": "e5ed9717-1442-442f-a984-4a834dd5cd75"
      },
      "execution_count": 39,
      "outputs": [
        {
          "output_type": "execute_result",
          "data": {
            "text/plain": [
              "2"
            ],
            "image/png": "[encoded data removed]",
            "text/latex": "$\\displaystyle 2$"
          },
          "metadata": {},
          "execution_count": 39
        }
      ]
    },
    {
      "cell_type": "markdown",
      "source": [
        "También se admiten integrales impropias:"
      ],
      "metadata": {
        "id": "yuz4qZMGhXvN"
      }
    },
    {
      "cell_type": "code",
      "source": [
        "sym.integrate(sym.exp(-x), (x, 0, sym.oo))"
      ],
      "metadata": {
        "colab": {
          "base_uri": "https://localhost:8080/",
          "height": 37
        },
        "id": "0iBT8y3WhYTm",
        "outputId": "e82e5e9f-8fe7-4978-d4b4-01f824cf490e"
      },
      "execution_count": 40,
      "outputs": [
        {
          "output_type": "execute_result",
          "data": {
            "text/plain": [
              "1"
            ],
            "image/png": "[encoded data removed]",
            "text/latex": "$\\displaystyle 1$"
          },
          "metadata": {},
          "execution_count": 40
        }
      ]
    },
    {
      "cell_type": "code",
      "source": [
        "sym.integrate(sym.exp(-x ** 2), (x, -sym.oo, sym.oo))"
      ],
      "metadata": {
        "colab": {
          "base_uri": "https://localhost:8080/",
          "height": 37
        },
        "id": "SZCbCq0Qhafl",
        "outputId": "73ad5889-0e35-4983-f2c3-d8f019c0c722"
      },
      "execution_count": 41,
      "outputs": [
        {
          "output_type": "execute_result",
          "data": {
            "text/plain": [
              "  ____\n",
              "\\/ pi "
            ],
            "image/png": "[encoded data removed]",
            "text/latex": "$\\displaystyle \\sqrt{\\pi}$"
          },
          "metadata": {},
          "execution_count": 41
        }
      ]
    },
    {
      "cell_type": "markdown",
      "source": [
        "**Resolución de Ecuaciones**\n",
        "\n",
        "SymPy es capaz de resolver ecuaciones algebraicas, en una o más variables usando solveset():"
      ],
      "metadata": {
        "id": "m61xspNWhgze"
      }
    },
    {
      "cell_type": "code",
      "source": [
        "sym.solveset(x ** 4 - 1, x)"
      ],
      "metadata": {
        "colab": {
          "base_uri": "https://localhost:8080/",
          "height": 39
        },
        "id": "PrI8UKbVhsQF",
        "outputId": "5dfb43cd-8734-4dc4-d406-dda6b97e79ec"
      },
      "execution_count": 42,
      "outputs": [
        {
          "output_type": "execute_result",
          "data": {
            "text/plain": [
              "{-1, 1, -I, I}"
            ],
            "image/png": "[encoded data removed]",
            "text/latex": "$\\displaystyle \\left\\{-1, 1, - i, i\\right\\}$"
          },
          "metadata": {},
          "execution_count": 42
        }
      ]
    },
    {
      "cell_type": "markdown",
      "source": [
        "Como se puede observar, toma como primer argumento una expresión que se supone que es igual a 0. También tiene soporte (limitado) para ecuaciones trascendentales:"
      ],
      "metadata": {
        "id": "LrYhfjT_hvbd"
      }
    },
    {
      "cell_type": "code",
      "source": [
        "sym.solveset(sym.exp(x) + 1, x)"
      ],
      "metadata": {
        "colab": {
          "base_uri": "https://localhost:8080/",
          "height": 39
        },
        "id": "9g60ZdAphvJN",
        "outputId": "0bd551f0-136e-4941-b12e-c3af97dcf85a"
      },
      "execution_count": 43,
      "outputs": [
        {
          "output_type": "execute_result",
          "data": {
            "text/plain": [
              "{I*(2*n*pi + pi) | n in Integers}"
            ],
            "image/png": "[encoded data removed]",
            "text/latex": "$\\displaystyle \\left\\{i \\left(2 n \\pi + \\pi\\right)\\; |\\; n \\in \\mathbb{Z}\\right\\}$"
          },
          "metadata": {},
          "execution_count": 43
        }
      ]
    },
    {
      "cell_type": "markdown",
      "source": [
        "*Sistemas de ecuaciones lineales*"
      ],
      "metadata": {
        "id": "yGaf8CVhh8m6"
      }
    },
    {
      "cell_type": "markdown",
      "source": [
        "Sympy es capaz de resolver una gran parte de ecuaciones polinómicas, y también es capaz de resolver múltiples ecuaciones con respecto a múltiples variables dando una tupla como segundo argumento. Para hacer esto, usa el comando solve():"
      ],
      "metadata": {
        "id": "IFQlzzfViEKH"
      }
    },
    {
      "cell_type": "code",
      "source": [
        "solution = sym.solve((x + 5 * y - 2, -3 * x + 6 * y - 15), (x, y))\n",
        "print(solution[x], solution[y])\n",
        "# otra forma de escribirlo\n",
        "x,y=sym.symbols('x,y')\n",
        "# definimos las ecuaciones lineales\n",
        "eq1= 2*x+  y+1\n",
        "eq2=-4*x-5*y+4\n",
        "# solucionamos\n",
        "solution=sym.solve((eq1,eq2),x,y)\n",
        "print(solution)\n",
        "\n",
        "raices=sym.solve(x**3+x**2-x+10)\n",
        "display(raices)\n",
        "print(raices[0].evalf())"
      ],
      "metadata": {
        "colab": {
          "base_uri": "https://localhost:8080/",
          "height": 161
        },
        "id": "Vf8H9tOAiO-X",
        "outputId": "d2c90c87-e540-45c5-86ce-6dc4d974ae38"
      },
      "execution_count": 44,
      "outputs": [
        {
          "output_type": "stream",
          "name": "stdout",
          "text": [
            "-3 1\n",
            "{x: -3/2, y: 2}\n"
          ]
        },
        {
          "output_type": "display_data",
          "data": {
            "text/plain": [
              "                                                                        ______\n",
              "                                                   /        ___  \\     /     _\n",
              "                                                   |  1   \\/ 3 *I|    /  3*\\/ \n",
              "                                                   |- - - -------|*3 /   -----\n",
              "   1                       4                       \\  2      2   / \\/        2\n",
              "[- - - ----------------------------------------- - ---------------------------\n",
              "   3                          __________________                      3       \n",
              "         /        ___  \\     /     ______                                     \n",
              "         |  1   \\/ 3 *I|    /  3*\\/ 8745    281                               \n",
              "       3*|- - - -------|*3 /   ---------- + ---                               \n",
              "         \\  2      2   / \\/        2         2                                \n",
              "\n",
              "____________                             __________________                   \n",
              "_____               /        ___  \\     /     ______                          \n",
              "8745    281         |  1   \\/ 3 *I|    /  3*\\/ 8745    281                    \n",
              "----- + ---         |- - + -------|*3 /   ---------- + ---                    \n",
              "         2      1   \\  2      2   / \\/        2         2                     \n",
              "------------, - - - --------------------------------------- - ----------------\n",
              "                3                      3                                      \n",
              "                                                                /        ___  \n",
              "                                                                |  1   \\/ 3 *I\n",
              "                                                              3*|- - + -------\n",
              "                                                                \\  2      2   \n",
              "\n",
              "                                  __________________                          \n",
              "                                 /     ______                                 \n",
              "                                /  3*\\/ 8745    281                           \n",
              "                             3 /   ---------- + ---                           \n",
              "    4                        \\/        2         2     1               4      \n",
              "-------------------------, - ----------------------- - - - -------------------\n",
              "       __________________               3              3          ____________\n",
              "\\     /     ______                                               /     ______ \n",
              "|    /  3*\\/ 8745    281                                        /  3*\\/ 8745  \n",
              "|*3 /   ---------- + ---                                   3*3 /   ---------- \n",
              "/ \\/        2         2                                      \\/        2      \n",
              "\n",
              "       \n",
              "       \n",
              "       \n",
              "       \n",
              "       \n",
              "------]\n",
              "______ \n",
              "       \n",
              "  281  \n",
              "+ ---  \n",
              "   2   "
            ],
            "image/png": "[encoded data removed]",
            "text/latex": "$\\displaystyle \\left[ - \\frac{1}{3} - \\frac{4}{3 \\left(- \\frac{1}{2} - \\frac{\\sqrt{3} i}{2}\\right) \\sqrt[3]{\\frac{3 \\sqrt{8745}}{2} + \\frac{281}{2}}} - \\frac{\\left(- \\frac{1}{2} - \\frac{\\sqrt{3} i}{2}\\right) \\sqrt[3]{\\frac{3 \\sqrt{8745}}{2} + \\frac{281}{2}}}{3}, \\  - \\frac{1}{3} - \\frac{\\left(- \\frac{1}{2} + \\frac{\\sqrt{3} i}{2}\\right) \\sqrt[3]{\\frac{3 \\sqrt{8745}}{2} + \\frac{281}{2}}}{3} - \\frac{4}{3 \\left(- \\frac{1}{2} + \\frac{\\sqrt{3} i}{2}\\right) \\sqrt[3]{\\frac{3 \\sqrt{8745}}{2} + \\frac{281}{2}}}, \\  - \\frac{\\sqrt[3]{\\frac{3 \\sqrt{8745}}{2} + \\frac{281}{2}}}{3} - \\frac{1}{3} - \\frac{4}{3 \\sqrt[3]{\\frac{3 \\sqrt{8745}}{2} + \\frac{281}{2}}}\\right]$"
          },
          "metadata": {}
        },
        {
          "output_type": "stream",
          "name": "stdout",
          "text": [
            "0.859833426594759 + 1.7139449867655*I\n"
          ]
        }
      ]
    },
    {
      "cell_type": "markdown",
      "source": [
        "Otra alternativa en el caso de las ecuaciones polinómicas es la función factor. Esta función devuelve el polinomio factorizado en términos irreducibles y es capaz de calcular la factorización en varios dominios:"
      ],
      "metadata": {
        "id": "SfjJoPG3iV5O"
      }
    },
    {
      "cell_type": "code",
      "source": [
        "f = x ** 4 - 3 * x ** 2 + 1\n",
        "sym.factor(f)"
      ],
      "metadata": {
        "colab": {
          "base_uri": "https://localhost:8080/",
          "height": 39
        },
        "id": "ih5Z855hiVqG",
        "outputId": "cbaf4db5-56aa-477c-cb65-7d100e767a67"
      },
      "execution_count": 45,
      "outputs": [
        {
          "output_type": "execute_result",
          "data": {
            "text/plain": [
              "/ 2        \\ / 2        \\\n",
              "\\x  - x - 1/*\\x  + x - 1/"
            ],
            "image/png": "[encoded data removed]",
            "text/latex": "$\\displaystyle \\left(x^{2} - x - 1\\right) \\left(x^{2} + x - 1\\right)$"
          },
          "metadata": {},
          "execution_count": 45
        }
      ]
    },
    {
      "cell_type": "code",
      "source": [
        "sym.factor(f, modulus=5)"
      ],
      "metadata": {
        "colab": {
          "base_uri": "https://localhost:8080/",
          "height": 40
        },
        "id": "fQUGgqwQios_",
        "outputId": "7ed9fb75-21fb-4f65-e701-6f0ecc7a180e"
      },
      "execution_count": 46,
      "outputs": [
        {
          "output_type": "execute_result",
          "data": {
            "text/plain": [
              "       2        2\n",
              "(x - 2) *(x + 2) "
            ],
            "image/png": "[encoded data removed]",
            "text/latex": "$\\displaystyle \\left(x - 2\\right)^{2} \\left(x + 2\\right)^{2}$"
          },
          "metadata": {},
          "execution_count": 46
        }
      ]
    },
    {
      "cell_type": "markdown",
      "source": [
        "SymPy también es capaz de resolver ecuaciones booleanas, es decir, decidir si una determinada expresión booleana es satisfactoria o no. Para esto, usamos la función satisfiable:"
      ],
      "metadata": {
        "id": "ct949V3viuim"
      }
    },
    {
      "cell_type": "code",
      "source": [
        "sym.satisfiable(x & y)"
      ],
      "metadata": {
        "colab": {
          "base_uri": "https://localhost:8080/"
        },
        "id": "gdnjpZNMi0a2",
        "outputId": "63c19b81-da39-4021-e2f5-622a9106809b"
      },
      "execution_count": 47,
      "outputs": [
        {
          "output_type": "execute_result",
          "data": {
            "text/plain": [
              "{x: True, y: True}"
            ]
          },
          "metadata": {},
          "execution_count": 47
        }
      ]
    },
    {
      "cell_type": "markdown",
      "source": [
        "Esto nos dice que (x & y) es verdadero siempre que x e y sean ambos verdaderos. Si una expresión no puede ser verdadera, es decir, ningún valor de sus argumentos puede hacer que la expresión sea verdadera, devolverá falso:"
      ],
      "metadata": {
        "id": "Vx46j1Wyi0EF"
      }
    },
    {
      "cell_type": "code",
      "source": [
        "sym.satisfiable(x & ~x)"
      ],
      "metadata": {
        "colab": {
          "base_uri": "https://localhost:8080/"
        },
        "id": "q0TEM1ldi-ie",
        "outputId": "7a825ce4-0a5d-40c6-da7e-a1e161bc3edb"
      },
      "execution_count": 48,
      "outputs": [
        {
          "output_type": "execute_result",
          "data": {
            "text/plain": [
              "False"
            ]
          },
          "metadata": {},
          "execution_count": 48
        }
      ]
    },
    {
      "cell_type": "markdown",
      "source": [
        "**Ejercicios**\n",
        "\n",
        "\n",
        "1.  Resuelve el sitema de ecuación $x + y = 2$ , $2x + y = 0$\n",
        "2.   ¿Hay valores booleanos x, y que hacen (~ x | y) & (~ y | x) sea verdadera?\n",
        "\n"
      ],
      "metadata": {
        "id": "RmpL2cxcjB9q"
      }
    },
    {
      "cell_type": "code",
      "source": [
        "#solucion 1 \n",
        "resultado= sym.solve([x + y-2 ,2*x + y ],[x ,y])\n",
        "resultado"
      ],
      "metadata": {
        "colab": {
          "base_uri": "https://localhost:8080/",
          "height": 39
        },
        "id": "j2Ga-UReyySP",
        "outputId": "349bab84-636a-4cee-97ef-8a764436e38d"
      },
      "execution_count": 96,
      "outputs": [
        {
          "output_type": "execute_result",
          "data": {
            "text/plain": [
              "{x: -2, y: 4}"
            ],
            "image/png": "[encoded data removed]",
            "text/latex": "$\\displaystyle \\left\\{ x : -2, \\  y : 4\\right\\}$"
          },
          "metadata": {},
          "execution_count": 96
        }
      ]
    },
    {
      "cell_type": "code",
      "source": [
        "#solucion 2\n",
        "s2=sym.satisfiable((not(x) or y) & (not(y) or x ))\n",
        "s2"
      ],
      "metadata": {
        "colab": {
          "base_uri": "https://localhost:8080/"
        },
        "id": "AyivOZZT1l7i",
        "outputId": "b7caa4dc-55d5-402c-f869-883099df7910"
      },
      "execution_count": 97,
      "outputs": [
        {
          "output_type": "execute_result",
          "data": {
            "text/plain": [
              "{x: True, y: True}"
            ]
          },
          "metadata": {},
          "execution_count": 97
        }
      ]
    },
    {
      "cell_type": "markdown",
      "source": [
        "## Álgebra lineal"
      ],
      "metadata": {
        "id": "7upW_7lLjsBf"
      }
    },
    {
      "cell_type": "markdown",
      "source": [
        "**Matrices**\n",
        "\n",
        "Las matrices se crean como instancias de la clase Matrix:"
      ],
      "metadata": {
        "id": "RP5CjMbmjuIN"
      }
    },
    {
      "cell_type": "code",
      "source": [
        "sym.Matrix([[1, 0], [0, 1]])"
      ],
      "metadata": {
        "colab": {
          "base_uri": "https://localhost:8080/",
          "height": 58
        },
        "id": "WQ9hKqhVjtx1",
        "outputId": "e76ba95b-a34d-4901-8cd9-b9b4152e752d"
      },
      "execution_count": 49,
      "outputs": [
        {
          "output_type": "execute_result",
          "data": {
            "text/plain": [
              "[1  0]\n",
              "[    ]\n",
              "[0  1]"
            ],
            "text/latex": "$\\displaystyle \\left[\\begin{matrix}1 & 0\\\\0 & 1\\end{matrix}\\right]$"
          },
          "metadata": {},
          "execution_count": 49
        }
      ]
    },
    {
      "cell_type": "markdown",
      "source": [
        "A diferencia de una matriz NumPy, también puede poner Símbolos en ella:"
      ],
      "metadata": {
        "id": "9m5HTOx0kCCI"
      }
    },
    {
      "cell_type": "code",
      "source": [
        "A = sym.Matrix([[1, x], [y, 1]])\n",
        "A"
      ],
      "metadata": {
        "colab": {
          "base_uri": "https://localhost:8080/",
          "height": 58
        },
        "id": "RI2ipYhikEzR",
        "outputId": "f19e5c4d-9a77-4093-8597-fc850ef7e9e2"
      },
      "execution_count": 50,
      "outputs": [
        {
          "output_type": "execute_result",
          "data": {
            "text/plain": [
              "[1  x]\n",
              "[    ]\n",
              "[y  1]"
            ],
            "text/latex": "$\\displaystyle \\left[\\begin{matrix}1 & x\\\\y & 1\\end{matrix}\\right]$"
          },
          "metadata": {},
          "execution_count": 50
        }
      ]
    },
    {
      "cell_type": "code",
      "source": [
        "A**2"
      ],
      "metadata": {
        "colab": {
          "base_uri": "https://localhost:8080/",
          "height": 58
        },
        "id": "Go9pAyrokMlq",
        "outputId": "603174c6-a82e-44e1-e6a1-ff42004ef7c6"
      },
      "execution_count": 51,
      "outputs": [
        {
          "output_type": "execute_result",
          "data": {
            "text/plain": [
              "[x*y + 1    2*x  ]\n",
              "[                ]\n",
              "[  2*y    x*y + 1]"
            ],
            "text/latex": "$\\displaystyle \\left[\\begin{matrix}x y + 1 & 2 x\\\\2 y & x y + 1\\end{matrix}\\right]$"
          },
          "metadata": {},
          "execution_count": 51
        }
      ]
    },
    {
      "cell_type": "markdown",
      "source": [
        "**Ecuaciones diferenciales**\n",
        "\n",
        "SymPy es capaz de resolver (algunos) ecuaciones diferenciales ordinarios. Para resolver ecuaciones diferenciales, utilice dsolve. Primero, cree una función indefinida pasando cls=Function a la función de símbolos:"
      ],
      "metadata": {
        "id": "9H8rOhunkUMJ"
      }
    },
    {
      "cell_type": "code",
      "source": [
        "f, g = sym.symbols('f g', cls=sym.Function)"
      ],
      "metadata": {
        "id": "J_77trq7kihh"
      },
      "execution_count": 52,
      "outputs": []
    },
    {
      "cell_type": "markdown",
      "source": [
        "f y g ahora son funciones indefinidas. Podemos llamar a f(x), y representará una función desconocida:"
      ],
      "metadata": {
        "id": "rL9r4xKFkmLa"
      }
    },
    {
      "cell_type": "code",
      "source": [
        "f(x)"
      ],
      "metadata": {
        "colab": {
          "base_uri": "https://localhost:8080/",
          "height": 39
        },
        "id": "X-_WeX69koBY",
        "outputId": "596b21c2-3157-4172-900c-499c11714094"
      },
      "execution_count": 53,
      "outputs": [
        {
          "output_type": "execute_result",
          "data": {
            "text/plain": [
              "f(x)"
            ],
            "image/png": "[encoded data removed]",
            "text/latex": "$\\displaystyle f{\\left(x \\right)}$"
          },
          "metadata": {},
          "execution_count": 53
        }
      ]
    },
    {
      "cell_type": "code",
      "source": [
        "f(x).diff(x, x) + f(x)"
      ],
      "metadata": {
        "colab": {
          "base_uri": "https://localhost:8080/",
          "height": 54
        },
        "id": "UuL5CdWhkqy5",
        "outputId": "00f60df6-ad03-4a09-b3ef-9a6f269c5bf9"
      },
      "execution_count": 54,
      "outputs": [
        {
          "output_type": "execute_result",
          "data": {
            "text/plain": [
              "         2      \n",
              "        d       \n",
              "f(x) + ---(f(x))\n",
              "         2      \n",
              "       dx       "
            ],
            "image/png": "[encoded data removed]",
            "text/latex": "$\\displaystyle f{\\left(x \\right)} + \\frac{d^{2}}{d x^{2}} f{\\left(x \\right)}$"
          },
          "metadata": {},
          "execution_count": 54
        }
      ]
    },
    {
      "cell_type": "code",
      "source": [
        "sym.dsolve(f(x).diff(x, x) + f(x), f(x))"
      ],
      "metadata": {
        "colab": {
          "base_uri": "https://localhost:8080/",
          "height": 39
        },
        "id": "Z-ot3jDqkvMn",
        "outputId": "8747fd3d-f1c1-45f2-b538-01797b223680"
      },
      "execution_count": 55,
      "outputs": [
        {
          "output_type": "execute_result",
          "data": {
            "text/plain": [
              "f(x) = C1*sin(x) + C2*cos(x)"
            ],
            "image/png": "[encoded data removed]",
            "text/latex": "$\\displaystyle f{\\left(x \\right)} = C_{1} \\sin{\\left(x \\right)} + C_{2} \\cos{\\left(x \\right)}$"
          },
          "metadata": {},
          "execution_count": 55
        }
      ]
    },
    {
      "cell_type": "markdown",
      "source": [
        "Se pueden dar argumentos de palabras clave a esta función para ayudar a encontrar el mejor sistema de resolución posible. Por ejemplo, si sabe que es una ecuación separable, puede usar la palabra clave hint='separable' para forzar a dsolve a resolverla como una ecuación separable:"
      ],
      "metadata": {
        "id": "CiDCe7Wjk3Xd"
      }
    },
    {
      "cell_type": "code",
      "source": [
        "sym.dsolve(sym.sin(x) * sym.cos(f(x)) + sym.cos(x) * sym.sin(f(x)) * f(x).diff(x), f(x), hint='separable') "
      ],
      "metadata": {
        "colab": {
          "base_uri": "https://localhost:8080/",
          "height": 58
        },
        "id": "pe4uPZ_sk9A2",
        "outputId": "6d7911fa-18ab-417a-bfbd-e2bf0f4b701c"
      },
      "execution_count": 56,
      "outputs": [
        {
          "output_type": "execute_result",
          "data": {
            "text/plain": [
              "              /  C1  \\                    /  C1  \\ \n",
              "[f(x) = - acos|------| + 2*pi, f(x) = acos|------|]\n",
              "              \\cos(x)/                    \\cos(x)/ "
            ],
            "image/png": "[encoded data removed]",
            "text/latex": "$\\displaystyle \\left[ f{\\left(x \\right)} = - \\operatorname{acos}{\\left(\\frac{C_{1}}{\\cos{\\left(x \\right)}} \\right)} + 2 \\pi, \\  f{\\left(x \\right)} = \\operatorname{acos}{\\left(\\frac{C_{1}}{\\cos{\\left(x \\right)}} \\right)}\\right]$"
          },
          "metadata": {},
          "execution_count": 56
        }
      ]
    },
    {
      "cell_type": "markdown",
      "source": [
        "**Ejercicios**\n",
        "\n",
        "\n",
        "1.   Resolver la ecuación diferencial de Bernoulli $x \\frac{df(x)}{x} + f(x) - f(x)^{2}$\n",
        "2.   Resuelve la misma ecuación usando hint='Bernoulli'. ¿Qué observas?\n",
        "\n"
      ],
      "metadata": {
        "id": "5ad-NrLMlA89"
      }
    },
    {
      "cell_type": "code",
      "source": [
        "#solucion 1\n",
        "# Resolviendo ecuación diferencial\n",
        "# defino las incognitas\n",
        "x = sym.Symbol('x')\n",
        "y = sym.Function('y')\n",
        "\n",
        "# expreso la ecuacion\n",
        "f = 6*(y(x)) +(y(x)) - (y(x))**2\n",
        "sym.Eq(y(x).diff(x), f)"
      ],
      "metadata": {
        "colab": {
          "base_uri": "https://localhost:8080/",
          "height": 52
        },
        "id": "V7Ob55Ds4e3i",
        "outputId": "2569dd5f-ea84-4033-df46-dea517c49f56"
      },
      "execution_count": 99,
      "outputs": [
        {
          "output_type": "execute_result",
          "data": {
            "text/plain": [
              "d             2            \n",
              "--(y(x)) = - y (x) + 7*y(x)\n",
              "dx                         "
            ],
            "image/png": "[encoded data removed]",
            "text/latex": "$\\displaystyle \\frac{d}{d x} y{\\left(x \\right)} = - y^{2}{\\left(x \\right)} + 7 y{\\left(x \\right)}$"
          },
          "metadata": {},
          "execution_count": 99
        }
      ]
    },
    {
      "cell_type": "code",
      "source": [
        "#solucion 2\n",
        "# Resolviendo ecuación diferencial\n",
        "# defino las incognitas\n",
        "x = sym.Symbol('x')\n",
        "y = sym.Function('y')\n",
        "\n",
        "# expreso la ecuacion\n",
        "f = 6*(y(x)) +(y(x)) - (y(x))**2\n",
        "sym.Eq(y(x).diff(x), f,hint='Bernoulli')"
      ],
      "metadata": {
        "colab": {
          "base_uri": "https://localhost:8080/",
          "height": 52
        },
        "id": "t1kQ_Sw85JiY",
        "outputId": "fd0ccfe2-5c9a-439f-b5cc-540e03f26f60"
      },
      "execution_count": 100,
      "outputs": [
        {
          "output_type": "execute_result",
          "data": {
            "text/plain": [
              "d             2            \n",
              "--(y(x)) = - y (x) + 7*y(x)\n",
              "dx                         "
            ],
            "image/png": "[encoded data removed]",
            "text/latex": "$\\displaystyle \\frac{d}{d x} y{\\left(x \\right)} = - y^{2}{\\left(x \\right)} + 7 y{\\left(x \\right)}$"
          },
          "metadata": {},
          "execution_count": 100
        }
      ]
    },
    {
      "cell_type": "markdown",
      "source": [
        "**Graficos usando sympy**"
      ],
      "metadata": {
        "id": "wezG_MmY5JcV"
      }
    },
    {
      "cell_type": "code",
      "source": [
        "from sympy import plot,tan\n",
        "x=sym.symbols('x')\n",
        "plot(tan(x),(x,-1.4,1.4))\n",
        "\n",
        "# con ecuaciones\n",
        "eq=x**3+x**2-x+10\n",
        "plot(eq,(x,-2,2))"
      ],
      "metadata": {
        "colab": {
          "base_uri": "https://localhost:8080/",
          "height": 594
        },
        "id": "GjenEk7G5I9h",
        "outputId": "fd079691-14be-4fe8-dc14-ac4a7361ab4f"
      },
      "execution_count": 57,
      "outputs": [
        {
          "output_type": "display_data",
          "data": {
            "text/plain": [
              "<Figure size 432x288 with 1 Axes>"
            ],
            "image/png": "[encoded data removed]"
          },
          "metadata": {
            "needs_background": "light"
          }
        },
        {
          "output_type": "display_data",
          "data": {
            "text/plain": [
              "<Figure size 432x288 with 1 Axes>"
            ],
            "image/png": "[encoded data removed]"
          },
          "metadata": {
            "needs_background": "light"
          }
        },
        {
          "output_type": "execute_result",
          "data": {
            "text/plain": [
              "<sympy.plotting.plot.Plot at 0x7f0381597110>"
            ]
          },
          "metadata": {},
          "execution_count": 57
        }
      ]
    },
    {
      "cell_type": "code",
      "source": [
        "from sympy.plotting import plot3d\n",
        "x,y=sym.symbols('x y')\n",
        "plot3d((sym.exp(-(x**1.5+y**2))),(x,-2,2),(y,-2,2))"
      ],
      "metadata": {
        "colab": {
          "base_uri": "https://localhost:8080/",
          "height": 314
        },
        "id": "J-GzMbjl94rz",
        "outputId": "aed7e4b2-8740-46f3-8964-587f9d920bf3"
      },
      "execution_count": 58,
      "outputs": [
        {
          "output_type": "display_data",
          "data": {
            "text/plain": [
              "<Figure size 432x288 with 1 Axes>"
            ],
            "image/png": "[encoded data removed]"
          },
          "metadata": {
            "needs_background": "light"
          }
        },
        {
          "output_type": "execute_result",
          "data": {
            "text/plain": [
              "<sympy.plotting.plot.Plot at 0x7f037f49c610>"
            ]
          },
          "metadata": {},
          "execution_count": 58
        }
      ]
    },
    {
      "cell_type": "markdown",
      "source": [
        "## Ejercicios"
      ],
      "metadata": {
        "id": "Cx_jS8Ksl_Nw"
      }
    },
    {
      "cell_type": "markdown",
      "source": [
        "\n",
        "\n",
        "1.   Halla la función que devuelva la expresión $\\frac{2}{5} e^{x^{2} - y} \\cosh{(x + y)} + \\frac{3}{7} \\log{(xy + 1)} $ simbólicamente. Asegúrate de que las fracciones sigan siendo simbólicas.\n",
        "\n",
        "\n"
      ],
      "metadata": {
        "id": "kBET7GIso3xo"
      }
    },
    {
      "cell_type": "code",
      "source": [
        ""
      ],
      "metadata": {
        "id": "7apvwP1aMU-l"
      },
      "execution_count": null,
      "outputs": []
    },
    {
      "cell_type": "markdown",
      "source": [
        "2. Teniendo $Φ = \\frac{1 + \\sqrt{5}}{2}$. Usa SymPy para simplificar $F = \\frac{Φ^{4} - Φ}{1 + Φ^{7}}$\n",
        "3.   Resuelve el siguiente sistema de ecuaciones: \\\\ $x + y + z = 5$ \\\\ $2x + 4y + 3z = 2$ \\\\ $5x + 10y + 2z = 4$\n",
        "\n",
        "4.   Sea f : R → R una función suave. Un punto crítico de f es un número $x_{0}$ ∈ R que satisface $f'(x_{0}) = 0$. El criterio de la segunda derivada establece que un punto crítico $x_{0}$ es un mínimo local de f si $f''(x0) > 0$, o un máximo local de f si $f''(x0) < 0$. Ahora considere el polinomio: \\\\\n",
        "$\\hspace{2cm}$ $p(x) = 2x^{6} - 51x^{4} + 48x^{3} + 312x^{2} + 576x - 100$  \n",
        "Use SymPy para encontrar todos los puntos críticos de p y clasifique cada uno como un mínimo local o un máximo local. Grafique p(x) sobre x ∈ [−5, 5] y marque cada uno de los mínimos en un color y los máximos en otro color. Devuelve las colecciones de mínimos locales y máximos locales como conjuntos.\n",
        "4.   Resuelve la siguiente ecuación diferencial: \\\\\n",
        "$\\hspace{2cm}$ $f(x) - 2 \\frac{df(x)}{dx} + \\frac{d^{2} f(x)}{dx^{2}} f(x) = \\sin{x}$\n",
        "\n"
      ],
      "metadata": {
        "id": "3sOmaB5BMVTU"
      }
    },
    {
      "cell_type": "code",
      "source": [
        "#solucion 5\n",
        "# Resolviendo ecuación diferencial\n",
        "# defino las incognitas\n",
        "x = sym.Symbol('x')\n",
        "y = sym.Function('y')\n",
        "\n",
        "# expreso la ecuacion\n",
        "f = (y(x)) -2*(y(x)) + (y(x))\n",
        "sym.Eq(y(x).diff(x), f,hint='Bernoulli')"
      ],
      "metadata": {
        "id": "T4_zsIl550Wn"
      },
      "execution_count": null,
      "outputs": []
    }
  ]
}